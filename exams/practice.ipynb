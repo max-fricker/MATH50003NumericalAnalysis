{
 "cells": [
  {
   "cell_type": "markdown",
   "metadata": {},
   "source": [
    "# MATH50003 Numerical Analysis (2021–2022) Practice Computer-based Exam\n",
    "\n",
    "\n",
    "For each problem, replace the `# TODO` to complete the question.\n",
    "The unit tests are provided to help you test your answers.\n",
    "You have 1 hour to complete the exam, as well as 1 hour for downloading/uploading.\n",
    "\n",
    "Problems are marked A/B/C to indicate difficulty (\"A\" being most difficult).\n",
    "Partial credit will be awarded for reasonable attempts even if the tests\n",
    "are not passed.\n",
    "\n",
    "You may use existing code from anywhere\n",
    "but you are **REQUIRED** to cite the source if it is not part of the module material,\n",
    "ideally by including a weblink in a comment. You **MUST NOT** ask for help online or\n",
    "communicate with others within or outside the module.\n",
    "Failure to follow these rules will be considered misconduct.\n",
    "\n",
    "\n",
    "\n",
    "You should use the following packages:"
   ]
  },
  {
   "cell_type": "code",
   "execution_count": 1,
   "metadata": {
    "execution": {
     "iopub.execute_input": "2022-03-08T16:32:15.869221Z",
     "iopub.status.busy": "2022-03-08T16:32:15.456562Z",
     "iopub.status.idle": "2022-03-08T16:32:16.077344Z",
     "shell.execute_reply": "2022-03-08T16:32:16.076814Z"
    }
   },
   "outputs": [],
   "source": [
    "using LinearAlgebra, SetRounding, Test"
   ]
  },
  {
   "cell_type": "markdown",
   "metadata": {},
   "source": [
    "**WARNING** It may be necessary to restart the kernel if issues arise. Remember to reload the packages\n",
    "when you do so.\n",
    "\n",
    "## 1. Numbers\n",
    "\n",
    "**Problem 1.1 (C)** Complete the following function `divideby3(x)` that\n",
    "returns a tuple `a,b` such that `a` is the largest `Float64` less \n",
    "than or equal to `x/3` and `b` is the smallest `Float64` greater than or equal to `x/3`."
   ]
  },
  {
   "cell_type": "code",
   "execution_count": 4,
   "metadata": {
    "execution": {
     "iopub.execute_input": "2022-03-08T16:32:16.098298Z",
     "iopub.status.busy": "2022-03-08T16:32:16.097611Z",
     "iopub.status.idle": "2022-03-08T16:32:16.541561Z",
     "shell.execute_reply": "2022-03-08T16:32:16.541022Z"
    }
   },
   "outputs": [
    {
     "data": {
      "text/plain": [
       "divideby3 (generic function with 1 method)"
      ]
     },
     "execution_count": 4,
     "metadata": {},
     "output_type": "execute_result"
    }
   ],
   "source": [
    "function divideby3(x)\n",
    "    # TODO: assign a,b so that a ≤ x ≤ b where b is either equal to a or the next float\n",
    "    a = setrounding(Float64, RoundDown) do\n",
    "        x/3\n",
    "    end\n",
    "    b = setrounding(Float64, RoundUp) do\n",
    "        x/3\n",
    "    end\n",
    "    a,b\n",
    "end"
   ]
  },
  {
   "cell_type": "code",
   "execution_count": 5,
   "metadata": {
    "execution": {
     "iopub.execute_input": "2022-03-08T16:32:16.543588Z",
     "iopub.status.busy": "2022-03-08T16:32:16.543069Z",
     "iopub.status.idle": "2022-03-08T16:32:17.391047Z",
     "shell.execute_reply": "2022-03-08T16:32:17.390663Z"
    }
   },
   "outputs": [
    {
     "data": {
      "text/plain": [
       "\u001b[32m\u001b[1mTest Passed\u001b[22m\u001b[39m"
      ]
     },
     "execution_count": 5,
     "metadata": {},
     "output_type": "execute_result"
    }
   ],
   "source": [
    "x = 0.1 # arbitary x\n",
    "a,b = divideby3(x)\n",
    "@test a ≤ big(x)/3 ≤ b\n",
    "@test b == a || b == nextfloat(a)"
   ]
  },
  {
   "cell_type": "markdown",
   "metadata": {},
   "source": [
    "## 2. Differentiation\n",
    "\n",
    "**Problem 2.1 (C)** Use the following off-center finite-difference approximation\n",
    "$$\n",
    "f'(x) ≈ {f(x+2h) - f(x-h) \\over 3h}\n",
    "$$\n",
    "with an appropriately chosen $h$ to approximate\n",
    "$$\n",
    "f(x) = \\cos(x^2)\n",
    "$$\n",
    "at $x = 0.1$ to 5 digits accuracy."
   ]
  },
  {
   "cell_type": "code",
   "execution_count": 6,
   "metadata": {
    "execution": {
     "iopub.execute_input": "2022-03-08T16:32:17.393232Z",
     "iopub.status.busy": "2022-03-08T16:32:17.392612Z",
     "iopub.status.idle": "2022-03-08T16:32:17.472691Z",
     "shell.execute_reply": "2022-03-08T16:32:17.472215Z"
    }
   },
   "outputs": [
    {
     "data": {
      "text/plain": [
       "fd (generic function with 1 method)"
      ]
     },
     "execution_count": 6,
     "metadata": {},
     "output_type": "execute_result"
    }
   ],
   "source": [
    "function fd(x)\n",
    "    # TODO: implement a finite-difference rule \n",
    "    # to approximate f'(x)\n",
    "    # for f(x) = cos(x^2)\n",
    "    # with step-size h chosen to get sufficient accuracy\n",
    "    h = sqrt(eps(typeof(x)))\n",
    "\n",
    "    (cos((x+2h)^2)-cos((x-h)^2)) / (3h)\n",
    "end"
   ]
  },
  {
   "cell_type": "code",
   "execution_count": 7,
   "metadata": {
    "execution": {
     "iopub.execute_input": "2022-03-08T16:32:17.474723Z",
     "iopub.status.busy": "2022-03-08T16:32:17.474227Z",
     "iopub.status.idle": "2022-03-08T16:32:18.880426Z",
     "shell.execute_reply": "2022-03-08T16:32:18.879903Z"
    }
   },
   "outputs": [
    {
     "data": {
      "text/plain": [
       "\u001b[32m\u001b[1mTest Passed\u001b[22m\u001b[39m"
      ]
     },
     "execution_count": 7,
     "metadata": {},
     "output_type": "execute_result"
    }
   ],
   "source": [
    "@test abs(fd(0.1) + 2*0.1*sin(0.1^2)) ≤ 1E-5"
   ]
  },
  {
   "cell_type": "markdown",
   "metadata": {},
   "source": [
    "**Problem 2.2 (A)** Consider a 2D version of a dual number:\n",
    "$$\n",
    "a + b ϵ_x + c ϵ_y\n",
    "$$\n",
    "such that\n",
    "$$\n",
    "ϵ_x^2 = ϵ_y^2 = ϵ_x ϵ_y =  0.\n",
    "$$\n",
    "Complete the following implementation supporting `+` and `*` (and\n",
    "assuming `a,b,c` are `Float64`). Hint: you may need to work out on paper\n",
    "how to multiply `(s.a + s.b ϵ_x + s.c ϵ_y)*(t.a + t.b ϵ_x + t.c ϵ_y)` using the\n",
    "relationship above."
   ]
  },
  {
   "cell_type": "code",
   "execution_count": 8,
   "metadata": {
    "execution": {
     "iopub.execute_input": "2022-03-08T16:32:18.883265Z",
     "iopub.status.busy": "2022-03-08T16:32:18.882600Z",
     "iopub.status.idle": "2022-03-08T16:32:19.152893Z",
     "shell.execute_reply": "2022-03-08T16:32:19.152454Z"
    }
   },
   "outputs": [
    {
     "data": {
      "text/plain": [
       "* (generic function with 320 methods)"
      ]
     },
     "execution_count": 8,
     "metadata": {},
     "output_type": "execute_result"
    }
   ],
   "source": [
    "import Base: *, +, ^\n",
    "struct Dual2D\n",
    "    a::Float64\n",
    "    b::Float64\n",
    "    c::Float64\n",
    "end\n",
    "\n",
    "\n",
    "function +(s::Dual2D, t::Dual2D)\n",
    "    ## TODO: Implement +, returning a Dual2D\n",
    "    Dual2D(s.a+t.a, s.b+t.b, s.c+t.c)\n",
    "end\n",
    "\n",
    "function *(c::Number, s::Dual2D)\n",
    "    ## TODO: Implement c * Dual2D(...), returning a Dual2D\n",
    "    Dual2D(c*s.a, c*s.b, c*s.c)\n",
    "end\n",
    "\n",
    "function *(s::Dual2D, t::Dual2D)\n",
    "    ## TODO: Implement Dual2D(...) * Dual2D(...), returning a Dual2D\n",
    "    Dual2D(s.a*t.a, s.a*t.b+s.b*t.a, s.a*t.c+s.c*t.a)\n",
    "end"
   ]
  },
  {
   "cell_type": "code",
   "execution_count": 9,
   "metadata": {
    "execution": {
     "iopub.execute_input": "2022-03-08T16:32:19.154906Z",
     "iopub.status.busy": "2022-03-08T16:32:19.154350Z",
     "iopub.status.idle": "2022-03-08T16:32:20.278218Z",
     "shell.execute_reply": "2022-03-08T16:32:20.277830Z"
    }
   },
   "outputs": [
    {
     "data": {
      "text/plain": [
       "\u001b[32m\u001b[1mTest Passed\u001b[22m\u001b[39m"
      ]
     },
     "execution_count": 9,
     "metadata": {},
     "output_type": "execute_result"
    }
   ],
   "source": [
    "f = function (x, y) # (x+2y^2)^3 using only * and +\n",
    "    z = (x + 2y * y)\n",
    "    z * z * z\n",
    "end\n",
    "\n",
    "x,y = 1., 2.\n",
    "@test f(Dual2D(x,1.,0.), Dual2D(y,0.,1.)) == Dual2D(f(x,y), 3(x+2y^2)^2, 12y*(x+2y^2)^2)\n",
    "\n",
    "# This has computed the gradient as f(x,y) + f_x*ϵ_x + f_y*ϵ_y\n",
    "# == (x+2y^2)^3 + 3(x+2y^2)^2*ϵ_x + 12y(x+2y^2)^2*ϵ_y"
   ]
  },
  {
   "cell_type": "markdown",
   "metadata": {},
   "source": [
    "## 3. Structured Matrices\n",
    "\n",
    "**Problem 3.1 (C)** Add an implementation of `inv(::PermutationMatrix)`\n",
    "to return the inverse permutation as a `PermutationMatrix`. Hint: use\n",
    "`invperm`."
   ]
  },
  {
   "cell_type": "code",
   "execution_count": 12,
   "metadata": {
    "execution": {
     "iopub.execute_input": "2022-03-08T16:32:20.280124Z",
     "iopub.status.busy": "2022-03-08T16:32:20.279617Z",
     "iopub.status.idle": "2022-03-08T16:32:20.364321Z",
     "shell.execute_reply": "2022-03-08T16:32:20.363936Z"
    }
   },
   "outputs": [
    {
     "data": {
      "text/plain": [
       "inv (generic function with 34 methods)"
      ]
     },
     "execution_count": 12,
     "metadata": {},
     "output_type": "execute_result"
    }
   ],
   "source": [
    "import Base: getindex, size, *, inv\n",
    "\n",
    "struct PermutationMatrix <: AbstractMatrix{Int}\n",
    "    p::Vector{Int} # represents the permutation whose action is v[p]\n",
    "    function PermutationMatrix(p::Vector)\n",
    "        sort(p) == 1:length(p) || error(\"input is not a valid permutation\")\n",
    "        new(p)\n",
    "    end\n",
    "end\n",
    "\n",
    "size(P::PermutationMatrix) = (length(P.p),length(P.p))\n",
    "getindex(P::PermutationMatrix, k::Int, j::Int) = P.p[k] == j ? 1 : 0\n",
    "*(P::PermutationMatrix, x::AbstractVector) = x[P.p]\n",
    "\n",
    "function inv(P::PermutationMatrix)\n",
    "    # TODO: return a PermutationMatrix representing the inverse permutation\n",
    "    PermutationMatrix(invperm(P.p))\n",
    "end"
   ]
  },
  {
   "cell_type": "code",
   "execution_count": 13,
   "metadata": {
    "execution": {
     "iopub.execute_input": "2022-03-08T16:32:20.367270Z",
     "iopub.status.busy": "2022-03-08T16:32:20.366375Z",
     "iopub.status.idle": "2022-03-08T16:32:20.483934Z",
     "shell.execute_reply": "2022-03-08T16:32:20.483532Z"
    }
   },
   "outputs": [
    {
     "data": {
      "text/plain": [
       "\u001b[32m\u001b[1mTest Passed\u001b[22m\u001b[39m"
      ]
     },
     "execution_count": 13,
     "metadata": {},
     "output_type": "execute_result"
    }
   ],
   "source": [
    "P = PermutationMatrix([3,4,2,1])\n",
    "@test inv(P) isa PermutationMatrix\n",
    "@test P*inv(P) == I"
   ]
  },
  {
   "cell_type": "markdown",
   "metadata": {},
   "source": [
    "## 4. Decompositions\n",
    "\n",
    "**Problem 4.1 (C)** For $𝐱 ∈ ℝ^n$ implement the reflection defined by\n",
    "$$\n",
    "\\begin{align*}\n",
    "𝐲 &:= 𝐱 + \\|𝐱\\| 𝐞_n \\\\\n",
    "𝐰 &:= 𝐲/\\|𝐲\\| \\\\\n",
    "Q_𝐱 &:= I - 2𝐰𝐰^⊤\n",
    "\\end{align*}\n",
    "$$\n",
    "in `lowerhouseholderreflection(x)`, which should return a `Matrix{Float64}`.\n",
    "You may assume that `x` is a `Vector{Float64}`."
   ]
  },
  {
   "cell_type": "code",
   "execution_count": 14,
   "metadata": {
    "execution": {
     "iopub.execute_input": "2022-03-08T16:32:20.487331Z",
     "iopub.status.busy": "2022-03-08T16:32:20.486453Z",
     "iopub.status.idle": "2022-03-08T16:32:20.572504Z",
     "shell.execute_reply": "2022-03-08T16:32:20.572079Z"
    }
   },
   "outputs": [
    {
     "data": {
      "text/plain": [
       "lowerhouseholderreflection (generic function with 1 method)"
      ]
     },
     "execution_count": 14,
     "metadata": {},
     "output_type": "execute_result"
    }
   ],
   "source": [
    "function lowerhouseholderreflection(x)\n",
    "    ## TODO: implement the householder reflector defined above\n",
    "    n = length(x)\n",
    "    e_n = [zeros(n-1); 1]\n",
    "    y = x + norm(x) * e_n\n",
    "    w = y / norm(y)\n",
    "    I - 2*w*w'\n",
    "end"
   ]
  },
  {
   "cell_type": "code",
   "execution_count": 15,
   "metadata": {
    "execution": {
     "iopub.execute_input": "2022-03-08T16:32:20.574724Z",
     "iopub.status.busy": "2022-03-08T16:32:20.574187Z",
     "iopub.status.idle": "2022-03-08T16:32:21.689419Z",
     "shell.execute_reply": "2022-03-08T16:32:21.689018Z"
    }
   },
   "outputs": [
    {
     "data": {
      "text/plain": [
       "\u001b[32m\u001b[1mTest Passed\u001b[22m\u001b[39m"
      ]
     },
     "execution_count": 15,
     "metadata": {},
     "output_type": "execute_result"
    }
   ],
   "source": [
    "x = [1.0,2,3,4]\n",
    "Q = lowerhouseholderreflection(x)\n",
    "@test Q*x ≈ [zeros(3); -norm(x)]\n",
    "@test Q'Q ≈ I\n",
    "@test Q ≈ Q'"
   ]
  },
  {
   "cell_type": "markdown",
   "metadata": {},
   "source": [
    "**Problem 4.2 (A)** Complete the function `ql(A)` that\n",
    "returns a QL decomposition, that is, `Q` is an orthogonal\n",
    "matrix and `L` is lower triangular. You may assume that `A`\n",
    "is a square `Matrix{Float64}`. Hint: use Problem 4.1 to lower triangularise."
   ]
  },
  {
   "cell_type": "code",
   "execution_count": 16,
   "metadata": {
    "execution": {
     "iopub.execute_input": "2022-03-08T16:32:21.691796Z",
     "iopub.status.busy": "2022-03-08T16:32:21.691164Z",
     "iopub.status.idle": "2022-03-08T16:32:21.771582Z",
     "shell.execute_reply": "2022-03-08T16:32:21.771204Z"
    }
   },
   "outputs": [
    {
     "data": {
      "text/plain": [
       "ql (generic function with 1 method)"
      ]
     },
     "execution_count": 16,
     "metadata": {},
     "output_type": "execute_result"
    }
   ],
   "source": [
    "function ql(A)\n",
    "    m,n = size(A)\n",
    "    m == n || error(\"not square\")\n",
    "    ## TODO Create Q and L such that Q'Q == I and L is lower triangular\n",
    "    L = copy(A)\n",
    "    Q = Matrix(1.0I, n, n)\n",
    "    for j = n:-1:2 # last to 2nd column\n",
    "        x = L[1:j,j]\n",
    "        Qⱼ = lowerhouseholderreflection(x) # moves all of Qⱼ*x to the last entry\n",
    "        L[1:j,1:j] = Qⱼ*L[1:j,1:j] # moves last column \"down\"\n",
    "        # Q_1 * Q_2 * … * Q_j (note Q_k are symmetric, so this is inverse of Q_j * … * Q_1)\n",
    "        # only changes the first j columns\n",
    "        Q[:,1:j] = Q[:,1:j]*Qⱼ\n",
    "    end\n",
    "    Q, L\n",
    "end"
   ]
  },
  {
   "cell_type": "code",
   "execution_count": 17,
   "metadata": {},
   "outputs": [
    {
     "ename": "LoadError",
     "evalue": "UndefVarError: A not defined",
     "output_type": "error",
     "traceback": [
      "UndefVarError: A not defined",
      "",
      "Stacktrace:",
      " [1] top-level scope",
      "   @ In[17]:1"
     ]
    }
   ],
   "source": [
    "ql(A)"
   ]
  },
  {
   "cell_type": "code",
   "execution_count": 18,
   "metadata": {
    "execution": {
     "iopub.execute_input": "2022-03-08T16:32:21.773956Z",
     "iopub.status.busy": "2022-03-08T16:32:21.773235Z",
     "iopub.status.idle": "2022-03-08T16:32:21.913172Z",
     "shell.execute_reply": "2022-03-08T16:32:21.912792Z"
    }
   },
   "outputs": [
    {
     "data": {
      "text/plain": [
       "\u001b[32m\u001b[1mTest Passed\u001b[22m\u001b[39m"
      ]
     },
     "execution_count": 18,
     "metadata": {},
     "output_type": "execute_result"
    }
   ],
   "source": [
    "A = [1.0 2 3; 1 4 9; 1 1 1]\n",
    "Q,L = ql(A)\n",
    "@test Q'Q ≈ I\n",
    "@test Q*L ≈ A\n",
    "@test L ≈ tril(L) # it is acceptable to have small non-zero entries in L"
   ]
  },
  {
   "cell_type": "markdown",
   "metadata": {},
   "source": [
    "## 5. Singular Value Decomposition\n",
    "\n",
    "**Problem 5.1 (C)** Find the best rank-4 approximation (in the $2$-norm) to\n",
    "$$\n",
    "f(x,y) = \\cos(x - y)/(x+y+1)\n",
    "$$\n",
    "evaluated at an evenly spaced 100 × 100 grid on the square $[0,1]^2$."
   ]
  },
  {
   "cell_type": "code",
   "execution_count": 31,
   "metadata": {
    "execution": {
     "iopub.execute_input": "2022-03-08T16:32:21.915531Z",
     "iopub.status.busy": "2022-03-08T16:32:21.914777Z",
     "iopub.status.idle": "2022-03-08T16:32:21.916288Z",
     "shell.execute_reply": "2022-03-08T16:32:21.916836Z"
    }
   },
   "outputs": [
    {
     "data": {
      "text/plain": [
       "100×100 Matrix{Float64}:\n",
       " 0.999993  0.989945  0.979995  0.970141  …  0.281434  0.275776  0.270146\n",
       " 0.989945  0.980195  0.970537  0.960968     0.284208  0.278592  0.273005\n",
       " 0.979995  0.970537  0.961164  0.951874     0.286924  0.281352  0.275807\n",
       " 0.970141  0.960968  0.951874  0.942857     0.289584  0.284055  0.278553\n",
       " 0.96038   0.951486  0.942665  0.933915     0.292187  0.286703  0.281244\n",
       " 0.95071   0.942088  0.933534  0.925045  …  0.294735  0.289295  0.283879\n",
       " 0.941128  0.932772  0.924479  0.916246     0.297228  0.291832  0.286459\n",
       " 0.931631  0.923536  0.915499  0.907516     0.299665  0.294314  0.288985\n",
       " 0.922217  0.914378  0.90659   0.898853     0.302049  0.296742  0.291457\n",
       " 0.912884  0.905295  0.897752  0.890255     0.304378  0.299117  0.293876\n",
       " 0.90363   0.896286  0.888983  0.881721  …  0.306654  0.301438  0.296241\n",
       " 0.894453  0.887348  0.88028   0.873248     0.308877  0.303706  0.298554\n",
       " 0.885351  0.87848   0.871642  0.864836     0.311047  0.305921  0.300814\n",
       " ⋮                                       ⋱                      \n",
       " 0.333675  0.336013  0.338292  0.340512     0.347152  0.345598  0.34402\n",
       " 0.327754  0.330144  0.332476  0.334749     0.346235  0.344725  0.34319\n",
       " 0.321861  0.324303  0.326687  0.329012  …  0.345289  0.343822  0.34233\n",
       " 0.315998  0.318491  0.320925  0.323302     0.344314  0.342891  0.341442\n",
       " 0.310165  0.312707  0.315191  0.317617     0.343311  0.341931  0.340526\n",
       " 0.30436   0.306951  0.309483  0.311958     0.34228   0.340943  0.339581\n",
       " 0.298585  0.301223  0.303803  0.306325     0.341222  0.339927  0.338607\n",
       " 0.292839  0.295523  0.298149  0.300719  …  0.340135  0.338884  0.337606\n",
       " 0.287122  0.289851  0.292523  0.295138     0.339022  0.337813  0.336578\n",
       " 0.281434  0.284208  0.286924  0.289584     0.337882  0.336715  0.335522\n",
       " 0.275776  0.278592  0.281352  0.284055     0.336715  0.335591  0.334439\n",
       " 0.270146  0.273005  0.275807  0.278553     0.335522  0.334439  0.33333"
      ]
     },
     "execution_count": 31,
     "metadata": {},
     "output_type": "execute_result"
    }
   ],
   "source": [
    "function bestrank4()\n",
    "    # TODO: return best rank-4 approximation\n",
    "    x = range(0, 1, 100)\n",
    "    y = range(0, 1, 100)\n",
    "    A = cos.(x' .- y) ./ (x' .+ y .+ 1)\n",
    "    U, S, V = svd(A)\n",
    "    U[:,1:4] * Diagonal(S[1:4]) * V[:, 1:4]'\n",
    "end\n",
    "\n",
    "Fr = bestrank4()"
   ]
  },
  {
   "cell_type": "code",
   "execution_count": 32,
   "metadata": {
    "execution": {
     "iopub.execute_input": "2022-03-08T16:32:21.919688Z",
     "iopub.status.busy": "2022-03-08T16:32:21.919016Z",
     "iopub.status.idle": "2022-03-08T16:32:21.971337Z",
     "shell.execute_reply": "2022-03-08T16:32:21.970915Z"
    }
   },
   "outputs": [
    {
     "data": {
      "text/plain": [
       "\u001b[32m\u001b[1mTest Passed\u001b[22m\u001b[39m"
      ]
     },
     "execution_count": 32,
     "metadata": {},
     "output_type": "execute_result"
    }
   ],
   "source": [
    "x = 9/99\n",
    "y = 10/99\n",
    "@test rank(Fr) == 4\n",
    "@test abs(Fr[10,11] - cos(x - y)/(x + y + 1)) ≤ 2E-6"
   ]
  },
  {
   "cell_type": "markdown",
   "metadata": {},
   "source": [
    "## 6. Differential Equations\n",
    "\n",
    "**Problem 6.1 (A)** Complete the function `airyai(n)` that returns a length-$n$ `Vector{Float64}`\n",
    "$$\n",
    "\\begin{bmatrix}\n",
    "u_1 \\\\\n",
    "⋮ \\\\\n",
    "u_n\n",
    "\\end{bmatrix}\n",
    "$$\n",
    "such that $u_k$ approximates the solution to the equation\n",
    "$$\n",
    "\\begin{align*}\n",
    "u(0) &= 1 \\\\\n",
    "u(1) &= 0 \\\\\n",
    "u'' - x u &= 0\n",
    "\\end{align*}\n",
    "$$\n",
    "at the point $x_k = (k-1)/(n-1)$ using the second order finite-difference approximation:\n",
    "$$\n",
    "u''(x_k) ≈ {u_{k-1} - 2u_k + u_{k+1} \\over h^2}\n",
    "$$\n",
    "for $k = 2, …, n-1$, in $O(n)$ operations."
   ]
  },
  {
   "cell_type": "code",
   "execution_count": null,
   "metadata": {
    "execution": {
     "iopub.execute_input": "2022-03-08T16:32:21.973860Z",
     "iopub.status.busy": "2022-03-08T16:32:21.972946Z",
     "iopub.status.idle": "2022-03-08T16:32:22.051297Z",
     "shell.execute_reply": "2022-03-08T16:32:22.050894Z"
    }
   },
   "outputs": [],
   "source": [
    "function airy(n)\n",
    "    # TODO: return a Vector{Float64} approximating the solution to the ODE\n",
    "    \n",
    "end"
   ]
  },
  {
   "cell_type": "code",
   "execution_count": null,
   "metadata": {
    "execution": {
     "iopub.execute_input": "2022-03-08T16:32:22.053186Z",
     "iopub.status.busy": "2022-03-08T16:32:22.052686Z",
     "iopub.status.idle": "2022-03-08T16:32:22.103708Z",
     "shell.execute_reply": "2022-03-08T16:32:22.103272Z"
    }
   },
   "outputs": [
    {
     "ename": "LoadError",
     "evalue": "UndefVarError: airy not defined",
     "output_type": "error",
     "traceback": [
      "UndefVarError: airy not defined",
      "",
      "Stacktrace:",
      " [1] top-level scope",
      "   @ In[17]:1",
      " [2] eval",
      "   @ ./boot.jl:373 [inlined]",
      " [3] include_string(mapexpr::typeof(REPL.softscope), mod::Module, code::String, filename::String)",
      "   @ Base ./loading.jl:1196"
     ]
    }
   ],
   "source": [
    "u = airy(1000)\n",
    "@test u[1] ≈ 1\n",
    "@test u[end] ≈ 0\n",
    "# this compares agianst the exact formula\n",
    "@test abs(u[500] - 0.4757167332829094) ≤ 2E-8"
   ]
  },
  {
   "cell_type": "code",
   "execution_count": null,
   "metadata": {},
   "outputs": [
    {
     "data": {
      "text/plain": [
       "5×5 SymTridiagonal{Float64, Vector{Float64}}:\n",
       " 1.0  1.0   ⋅    ⋅    ⋅ \n",
       " 1.0  2.0  0.0   ⋅    ⋅ \n",
       "  ⋅   0.0  3.0  0.0   ⋅ \n",
       "  ⋅    ⋅   0.0  4.0  0.0\n",
       "  ⋅    ⋅    ⋅   0.0  5.0"
      ]
     },
     "execution_count": 25,
     "metadata": {},
     "output_type": "execute_result"
    }
   ],
   "source": [
    "x = 1:6\n",
    "\n",
    "\n",
    "\n",
    "SymTridiagonal(Vector{Float64}(x[1:5]), [1.0; zeros(3)])"
   ]
  },
  {
   "cell_type": "code",
   "execution_count": null,
   "metadata": {},
   "outputs": [
    {
     "data": {
      "text/plain": [
       "4-element Vector{Float64}:\n",
       " 1.0\n",
       " 2.0\n",
       " 3.0\n",
       " 4.0"
      ]
     },
     "execution_count": 21,
     "metadata": {},
     "output_type": "execute_result"
    }
   ],
   "source": [
    "x"
   ]
  },
  {
   "cell_type": "code",
   "execution_count": null,
   "metadata": {},
   "outputs": [],
   "source": []
  }
 ],
 "metadata": {
  "kernelspec": {
   "display_name": "Julia 1.8.5",
   "language": "julia",
   "name": "julia-1.8"
  },
  "language_info": {
   "file_extension": ".jl",
   "mimetype": "application/julia",
   "name": "julia",
   "version": "1.8.5"
  }
 },
 "nbformat": 4,
 "nbformat_minor": 2
}
