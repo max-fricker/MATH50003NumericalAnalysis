{
 "cells": [
  {
   "cell_type": "code",
   "execution_count": 1,
   "metadata": {},
   "outputs": [],
   "source": [
    "using LinearAlgebra, SetRounding, Test"
   ]
  },
  {
   "cell_type": "code",
   "execution_count": 8,
   "metadata": {},
   "outputs": [
    {
     "data": {
      "text/plain": [
       "rq (generic function with 1 method)"
      ]
     },
     "execution_count": 8,
     "metadata": {},
     "output_type": "execute_result"
    }
   ],
   "source": [
    "function rq(A)\n",
    "    m, n = size(A)\n",
    "    m == n || error(\"not square\")\n",
    "\n",
    "    R = copy(A)\n",
    "    Q = Matrix(1.0I, n, n)\n",
    "    \n",
    "    for k = 2:n\n",
    "        y = R[k, 1:k]\n",
    "        y[end] -= norm(y)\n",
    "        w = y / norm(y)\n",
    "        P = I - 2 * w * w'\n",
    "        R[1:k, 1:k] = P * R[1:k, 1:k]\n",
    "        Q[:, 1:k] =  Q[:, 1:k] * P\n",
    "        @show R\n",
    "    end\n",
    "    R, Q\n",
    "end"
   ]
  },
  {
   "cell_type": "code",
   "execution_count": 8,
   "metadata": {},
   "outputs": [
    {
     "data": {
      "text/plain": [
       "rq (generic function with 1 method)"
      ]
     },
     "execution_count": 8,
     "metadata": {},
     "output_type": "execute_result"
    }
   ],
   "source": [
    "function rq(A)\n",
    "    m, n = size(A)\n",
    "    m == n || error(\"not square\")\n",
    "\n",
    "    R = copy(A)\n",
    "    Q = Matrix(1.0I, n, n)\n",
    "\n",
    "    for j = n:-1:2\n",
    "        y = R[1:j, j]\n",
    "        y[end] -= norm(y)\n",
    "        w = y / norm(y)\n",
    "        P = I - 2 * w * w'\n",
    "        R[1:j,1:j] = P * R[1:j, 1:j]\n",
    "        Q[:,1:j] = Q[:, 1:j] * P\n",
    "    end\n",
    "    R', Q'\n",
    "end"
   ]
  },
  {
   "cell_type": "code",
   "execution_count": 9,
   "metadata": {},
   "outputs": [
    {
     "name": "stdout",
     "output_type": "stream",
     "text": [
      "R = [-0.7276068751089992 -0.9701425001453323 3.0; 1.212678125181665 4.365641250653994 9.0; 1.0 1.0 1.0]\n",
      "R = [-0.5328202393585074 -3.070737665029644 -5.886751345948129; 1.4074647609321569 2.265046085769682 0.11324865405187146; 0.8574062859952277 2.537742386828839 7.505553499465133]\n"
     ]
    },
    {
     "data": {
      "text/plain": [
       "([-0.5328202393585074 -3.070737665029644 -5.886751345948129; 1.4074647609321569 2.265046085769682 0.11324865405187146; 0.8574062859952277 2.537742386828839 7.505553499465133], [-0.3962970499866312 0.8163810751950343 -0.420084025208403; -0.7138734585615019 0.013733416547496935 0.7001400420140047; 0.5773502691896256 0.5773502691896256 0.577350269189626])"
      ]
     },
     "execution_count": 9,
     "metadata": {},
     "output_type": "execute_result"
    }
   ],
   "source": [
    "A = [1.0 2 3; 1 4 9; 1 1 1]\n",
    "R,Q = rq(A)"
   ]
  },
  {
   "cell_type": "code",
   "execution_count": 10,
   "metadata": {},
   "outputs": [
    {
     "data": {
      "text/plain": [
       "3×3 adjoint(::Matrix{Float64}) with eltype Float64:\n",
       "  0.254         1.03843      1.36277\n",
       " -1.11022e-16   0.82542      4.50762\n",
       " -5.55112e-17  -1.11022e-16  9.53939"
      ]
     },
     "execution_count": 10,
     "metadata": {},
     "output_type": "execute_result"
    }
   ],
   "source": [
    "R"
   ]
  },
  {
   "cell_type": "code",
   "execution_count": 10,
   "metadata": {},
   "outputs": [
    {
     "data": {
      "text/plain": [
       "3×3 Matrix{Float64}:\n",
       " -0.396297  0.816381   -0.420084\n",
       " -0.713873  0.0137334   0.70014\n",
       "  0.57735   0.57735     0.57735"
      ]
     },
     "execution_count": 10,
     "metadata": {},
     "output_type": "execute_result"
    }
   ],
   "source": [
    "Q"
   ]
  },
  {
   "cell_type": "code",
   "execution_count": 12,
   "metadata": {},
   "outputs": [
    {
     "name": "stdout",
     "output_type": "stream",
     "text": [
      "\u001b[91m\u001b[1mTest Failed\u001b[22m\u001b[39m at \u001b[39m\u001b[1mIn[12]:2\u001b[22m\n",
      "  Expression: R * Q ≈ A\n",
      "   Evaluated: [0.9999999999999998 1.0 0.9999999999999999; 1.9999999999999998 4.0 0.9999999999999996; 3.0 9.0 0.9999999999999993] ≈ [1.0 2.0 3.0; 1.0 4.0 9.0; 1.0 1.0 1.0]\n"
     ]
    },
    {
     "ename": "LoadError",
     "evalue": "\u001b[91mThere was an error during testing\u001b[39m",
     "output_type": "error",
     "traceback": [
      "\u001b[91mThere was an error during testing\u001b[39m",
      "",
      "Stacktrace:",
      " [1] record(ts::Test.FallbackTestSet, t::Union{Test.Error, Test.Fail})",
      "   @ Test C:\\Users\\maxfr\\AppData\\Local\\Programs\\Julia-1.8.5\\share\\julia\\stdlib\\v1.8\\Test\\src\\Test.jl:946",
      " [2] do_test(result::Test.ExecutionResult, orig_expr::Any)",
      "   @ Test C:\\Users\\maxfr\\AppData\\Local\\Programs\\Julia-1.8.5\\share\\julia\\stdlib\\v1.8\\Test\\src\\Test.jl:656",
      " [3] top-level scope",
      "   @ C:\\Users\\maxfr\\AppData\\Local\\Programs\\Julia-1.8.5\\share\\julia\\stdlib\\v1.8\\Test\\src\\Test.jl:464"
     ]
    }
   ],
   "source": [
    "@test Q'Q ≈ I\n",
    "@test R*Q ≈ A"
   ]
  },
  {
   "cell_type": "code",
   "execution_count": null,
   "metadata": {},
   "outputs": [],
   "source": []
  }
 ],
 "metadata": {
  "kernelspec": {
   "display_name": "Julia 1.8.5",
   "language": "julia",
   "name": "julia-1.8"
  },
  "language_info": {
   "file_extension": ".jl",
   "mimetype": "application/julia",
   "name": "julia",
   "version": "1.8.5"
  },
  "orig_nbformat": 4
 },
 "nbformat": 4,
 "nbformat_minor": 2
}
