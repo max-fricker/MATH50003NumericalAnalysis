{
 "cells": [
  {
   "cell_type": "code",
   "execution_count": 1,
   "metadata": {},
   "outputs": [],
   "source": [
    "using LinearAlgebra, SetRounding, Test"
   ]
  },
  {
   "cell_type": "code",
   "execution_count": 2,
   "metadata": {},
   "outputs": [
    {
     "data": {
      "text/plain": [
       "3×3 Matrix{Float64}:\n",
       " 1.0  2.0  3.0\n",
       " 1.0  4.0  9.0\n",
       " 1.0  1.0  1.0"
      ]
     },
     "execution_count": 2,
     "metadata": {},
     "output_type": "execute_result"
    }
   ],
   "source": [
    "A = [1.0 2 3; 1 4 9; 1 1 1]"
   ]
  },
  {
   "cell_type": "code",
   "execution_count": 3,
   "metadata": {},
   "outputs": [
    {
     "data": {
      "text/plain": [
       "\u001b[32m\u001b[1mTest Passed\u001b[22m\u001b[39m"
      ]
     },
     "execution_count": 3,
     "metadata": {},
     "output_type": "execute_result"
    }
   ],
   "source": [
    "function qr(A)\n",
    "    m,n = size(A)\n",
    "    if n > m\n",
    "        error(\"More columns than rows is not supported\")\n",
    "    end\n",
    "\n",
    "    R = copy(A)\n",
    "    Q = Matrix(1.0I, m, n)\n",
    "\n",
    "    for j = 1:n-1 # first to last column\n",
    "        y = R[j:end, j]\n",
    "        y[1] += norm(y)\n",
    "        w = y/norm(y)\n",
    "        P = I - 2*w*w'\n",
    "\n",
    "        R[j:end,j:end] = P * R[j:end, j:end]\n",
    "        Q[:, j:end] = Q[:, j:end] * P\n",
    "    end\n",
    "    Q, R\n",
    "end\n",
    "\n",
    "Q, R = qr(A)\n",
    "@test Q'Q ≈ I\n",
    "@test Q*R ≈ A\n",
    "@test R ≈ triu(R)"
   ]
  },
  {
   "cell_type": "code",
   "execution_count": 4,
   "metadata": {},
   "outputs": [
    {
     "data": {
      "text/plain": [
       "\u001b[32m\u001b[1mTest Passed\u001b[22m\u001b[39m"
      ]
     },
     "execution_count": 4,
     "metadata": {},
     "output_type": "execute_result"
    }
   ],
   "source": [
    "function rq(A)\n",
    "    m,n = size(A)\n",
    "    m == n || error(\"not square\")\n",
    "    ## SOLUTION\n",
    "    R = copy(A)\n",
    "    Q = Matrix(1.0I, n, n)\n",
    "    for j = n:-1:2\n",
    "        y = R[j, 1:j]            \n",
    "        y[end] -= norm(y)\n",
    "        w = y / norm(y)\n",
    "\n",
    "        P = I - 2 * w * w'\n",
    "        R[1:j, 1:j] = R[1:j, 1:j] * P\n",
    "        Q[1:j, :] = P * Q[1:j, :]\n",
    "    end\n",
    "    R,Q\n",
    "    ## END\n",
    "end\n",
    "\n",
    "R, Q = rq(A)\n",
    "@test Q'Q ≈ I\n",
    "@test R*Q ≈ A\n",
    "@test R ≈ triu(R)"
   ]
  },
  {
   "cell_type": "code",
   "execution_count": 5,
   "metadata": {},
   "outputs": [
    {
     "data": {
      "text/plain": [
       "\u001b[32m\u001b[1mTest Passed\u001b[22m\u001b[39m"
      ]
     },
     "execution_count": 5,
     "metadata": {},
     "output_type": "execute_result"
    }
   ],
   "source": [
    "function ql(A)\n",
    "    m,n = size(A)\n",
    "    m == n || error(\"not square\")\n",
    "    ## TODO Create Q and L such that Q'Q == I and L is lower triangular\n",
    "    ## SOLUTION\n",
    "    L = copy(A)\n",
    "    Q = Matrix(1.0I, n, n)\n",
    "    for j = n:-1:2\n",
    "        y = L[1:j, j]\n",
    "        y[end] -= norm(y)\n",
    "        w = y / norm(y)\n",
    "        P = I - 2 * w * w'\n",
    "        \n",
    "        L[1:j, 1:j] = P * L[1:j, 1:j]\n",
    "        Q[:,1:j] = Q[:,1:j] * P\n",
    "    end\n",
    "    Q,L\n",
    "    ## END\n",
    "end\n",
    "\n",
    "Q,L = ql(A)\n",
    "@test Q'Q ≈ I\n",
    "@test Q*L ≈ A\n",
    "@test L ≈ tril(L)"
   ]
  },
  {
   "cell_type": "code",
   "execution_count": 6,
   "metadata": {},
   "outputs": [
    {
     "data": {
      "text/plain": [
       "\u001b[32m\u001b[1mTest Passed\u001b[22m\u001b[39m"
      ]
     },
     "execution_count": 6,
     "metadata": {},
     "output_type": "execute_result"
    }
   ],
   "source": [
    "function lq(A)\n",
    "    m,n = size(A)\n",
    "    m == n || error(\"not square\")\n",
    "    ## TODO Create Q and L such that A = L*Q, Q'Q == I and L is lower triangular\n",
    "    ## SOLUTION\n",
    "    L = copy(A)\n",
    "    Q = Matrix(1.0I, n, n)\n",
    "    for k = 1:n-1\n",
    "        y = L[k, k:end]\n",
    "        y[1] -= norm(y)\n",
    "        w = y / norm(y)\n",
    "        P = I - 2 * w * w'\n",
    "\n",
    "        L[k:end, k:end] = L[k:end, k:end] * P\n",
    "        Q[k:end, :] = P * Q[k:end, :]\n",
    "    end\n",
    "    L,Q\n",
    "    ## END\n",
    "end\n",
    "\n",
    "L, Q = lq(A)\n",
    "@test Q'Q ≈ I\n",
    "@test L*Q ≈ A\n",
    "@test L ≈ tril(L)"
   ]
  },
  {
   "cell_type": "code",
   "execution_count": 7,
   "metadata": {},
   "outputs": [
    {
     "data": {
      "text/plain": [
       "4×4 Matrix{Int64}:\n",
       " 2  1  1  1\n",
       " 1  2  1  1\n",
       " 1  1  2  1\n",
       " 1  1  1  2"
      ]
     },
     "execution_count": 7,
     "metadata": {},
     "output_type": "execute_result"
    }
   ],
   "source": [
    "A = [2 1 1 1; 1 2 1 1; 1 1 2 1; 1 1 1 2]"
   ]
  },
  {
   "cell_type": "code",
   "execution_count": 8,
   "metadata": {},
   "outputs": [
    {
     "data": {
      "text/plain": [
       "\u001b[32m\u001b[1mTest Passed\u001b[22m\u001b[39m"
      ]
     },
     "execution_count": 8,
     "metadata": {},
     "output_type": "execute_result"
    }
   ],
   "source": [
    "function mycholesky(A)\n",
    "    m,n = size(A)\n",
    "    if n != m\n",
    "        error(\"Matrix must be square\")\n",
    "    end\n",
    "    if A != A'\n",
    "        error(\"Matrix must be symmetric\")\n",
    "    end\n",
    "\n",
    "    L = LowerTriangular(zeros(Float64, n, n))\n",
    "    B = copy(A)\n",
    "\n",
    "    for j = 1:n\n",
    "        a = B[1,1]\n",
    "        v = B[2:end, 1]\n",
    "        if a <= 0\n",
    "            error(\"Matrix is not symmetric positive definite\")\n",
    "        end\n",
    "        L[j,j] = sqrt(a)\n",
    "        L[j+1:end, j] = v / sqrt(a)\n",
    "\n",
    "        B = B[2:end, 2:end] - v * v' / a\n",
    "    end\n",
    "    L\n",
    "end\n",
    "\n",
    "L = mycholesky(A)\n",
    "@test L*L' ≈ A\n",
    "@test L ≈ tril(L)"
   ]
  },
  {
   "cell_type": "code",
   "execution_count": 9,
   "metadata": {},
   "outputs": [
    {
     "data": {
      "text/plain": [
       "\u001b[32m\u001b[1mTest Passed\u001b[22m\u001b[39m"
      ]
     },
     "execution_count": 9,
     "metadata": {},
     "output_type": "execute_result"
    }
   ],
   "source": [
    "function mycholeskyu(A)\n",
    "    m,n = size(A)\n",
    "    if n != m\n",
    "        error(\"Matrix must be square\")\n",
    "    end\n",
    "    if A != A'\n",
    "        error(\"Matrix must be symmetric\")\n",
    "    end\n",
    "\n",
    "    U = UpperTriangular(zeros(Float64, n, n))\n",
    "    B = copy(A)\n",
    "\n",
    "    for j = n:-1:1\n",
    "        a = B[end,end]\n",
    "        v = B[1:end-1, end]\n",
    "        if a <= 0\n",
    "            error(\"Matrix is not symmetric positive definite\")\n",
    "        end\n",
    "        U[j,j] = sqrt(a)\n",
    "        U[1:j-1, j] = v / sqrt(a)\n",
    "\n",
    "        B = B[1:end-1, 1:end-1] - v * v' / a\n",
    "    end\n",
    "    U\n",
    "end\n",
    "\n",
    "U = mycholeskyu(A)\n",
    "@test U*U' ≈ A\n",
    "@test U ≈ triu(U)"
   ]
  }
 ],
 "metadata": {
  "kernelspec": {
   "display_name": "Julia 1.8.5",
   "language": "julia",
   "name": "julia-1.8"
  },
  "language_info": {
   "file_extension": ".jl",
   "mimetype": "application/julia",
   "name": "julia",
   "version": "1.8.5"
  },
  "orig_nbformat": 4
 },
 "nbformat": 4,
 "nbformat_minor": 2
}
