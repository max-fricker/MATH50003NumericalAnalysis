{
 "cells": [
  {
   "cell_type": "code",
   "execution_count": 1,
   "metadata": {},
   "outputs": [],
   "source": [
    "using LinearAlgebra, SetRounding, Test"
   ]
  },
  {
   "cell_type": "code",
   "execution_count": 71,
   "metadata": {},
   "outputs": [
    {
     "data": {
      "text/plain": [
       "qr (generic function with 1 method)"
      ]
     },
     "execution_count": 71,
     "metadata": {},
     "output_type": "execute_result"
    }
   ],
   "source": [
    "function qr(A)\n",
    "    m,n = size(A)\n",
    "    if n > m\n",
    "        error(\"More columns than rows is not supported\")\n",
    "    end\n",
    "\n",
    "    R = copy(A)\n",
    "    Q = Matrix(1.0I, m, n)\n",
    "\n",
    "    for j = 1:n-1 # first to last column\n",
    "        y = R[j:end, j]\n",
    "        y[1] += norm(y)\n",
    "        w = y/norm(y)\n",
    "        P = I - 2*w*w'\n",
    "\n",
    "        R[j:end,j:end] = P * R[j:end, j:end]\n",
    "        Q[:, j:end] = Q[:, j:end] * P\n",
    "    end\n",
    "    Q, R\n",
    "end"
   ]
  },
  {
   "cell_type": "code",
   "execution_count": 79,
   "metadata": {},
   "outputs": [
    {
     "data": {
      "text/plain": [
       "rq (generic function with 1 method)"
      ]
     },
     "execution_count": 79,
     "metadata": {},
     "output_type": "execute_result"
    }
   ],
   "source": [
    "function rq(A)\n",
    "    m,n = size(A)\n",
    "    m == n || error(\"not square\")\n",
    "    ## SOLUTION\n",
    "    R = copy(A)\n",
    "    Q = Matrix(1.0I, n, n)\n",
    "    for j = n:-1:2\n",
    "        y = R[j, 1:j]            \n",
    "        y[end] -= norm(y)\n",
    "        w = y / norm(y)\n",
    "\n",
    "        P = I - 2 * w * w'\n",
    "        R[1:j, 1:j] = R[1:j, 1:j] * P\n",
    "        Q[1:j, :] = P * Q[1:j, :]\n",
    "    end\n",
    "    R,Q\n",
    "    ## END\n",
    "end"
   ]
  },
  {
   "cell_type": "code",
   "execution_count": null,
   "metadata": {},
   "outputs": [],
   "source": [
    "function ql(A)\n",
    "    m,n = size(A)\n",
    "    m == n || error(\"not square\")\n",
    "    ## TODO Create Q and L such that Q'Q == I and L is lower triangular\n",
    "    ## SOLUTION\n",
    "    L = copy(A)\n",
    "    Q = Matrix(1.0I, n, n)\n",
    "    for j = n:-1:2\n",
    "        y = L[1:j, j]\n",
    "        y[end] -= norm(y)\n",
    "        w = y / norm(y)\n",
    "        P = I - 2 * w * w'\n",
    "        \n",
    "        L[1:j, 1:j] = P * L[1:j, 1:j]\n",
    "        Q[:,1:j] = Q[:,1:j] * P\n",
    "    end\n",
    "    Q,L\n",
    "    ## END\n",
    "end"
   ]
  },
  {
   "cell_type": "code",
   "execution_count": null,
   "metadata": {},
   "outputs": [],
   "source": [
    "function lq(A)\n",
    "    m,n = size(A)\n",
    "    m == n || error(\"not square\")\n",
    "    ## TODO Create Q and L such that A = L*Q, Q'Q == I and L is lower triangular\n",
    "    ## SOLUTION\n",
    "    L = copy(A)\n",
    "    Q = Matrix(1.0I, n, n)\n",
    "    for k = 1:n-1\n",
    "        y = L[k, k:end]\n",
    "        y[1] -= norm(y)\n",
    "        w = y / norm(y)\n",
    "        P = I - 2 * w * w'\n",
    "\n",
    "        L[k:end, k:end] = L[k:end, k:end] * P\n",
    "        Q[k:end, :] = P * Q[k:end, :]\n",
    "    end\n",
    "    L,Q\n",
    "    ## END\n",
    "end"
   ]
  }
 ],
 "metadata": {
  "kernelspec": {
   "display_name": "Julia 1.8.5",
   "language": "julia",
   "name": "julia-1.8"
  },
  "language_info": {
   "file_extension": ".jl",
   "mimetype": "application/julia",
   "name": "julia",
   "version": "1.8.5"
  },
  "orig_nbformat": 4
 },
 "nbformat": 4,
 "nbformat_minor": 2
}
