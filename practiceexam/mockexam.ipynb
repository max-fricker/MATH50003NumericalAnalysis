{
 "cells": [
  {
   "cell_type": "markdown",
   "source": [
    "# MATH50003 Numerical Analysis (2022–2023) Mock Computer-based Exam"
   ],
   "metadata": {}
  },
  {
   "cell_type": "markdown",
   "source": [
    "Instructions for uploading and downloading:"
   ],
   "metadata": {}
  },
  {
   "cell_type": "markdown",
   "source": [
    "1. Rename the file to include your CID.\n",
    "2. You have 15 mins to download the exam beginning at 10:30 on 8 March.\n",
    "2. You have 1 hour to complete the exam beginning at 10:45 on 8 March.\n",
    "3. Deadline is 12:00 on 8 March to upload the completed Jupyter notebook (`.ipynb`) to Blackboard.\n",
    "5. Once uploaded, re-download the file before the final submission time to confirm it is correct.\n",
    "You are allowed to upload additional submissions but only last valid upload before 12:00 will be used.\n",
    "6. If uploading via Blackboard fails you may e-mail the UG Office: maths.exams@imperial.ac.uk"
   ],
   "metadata": {}
  },
  {
   "cell_type": "markdown",
   "source": [
    "Instructions for the exam:"
   ],
   "metadata": {}
  },
  {
   "cell_type": "markdown",
   "source": [
    "1. For each problem, replace the `# TODO` to complete the question.\n",
    "The unit tests are provided to help you test your answers.\n",
    "3. Problems are marked A/B/C to indicate difficulty (\"A\" being most difficult).\n",
    "Partial credit will be awarded for reasonable attempts even if the tests\n",
    "are not passed. A and B questions are worth 12 marks while C questions are worth 10 marks.\n",
    "3. If you have technical queries please email s.olver@imperial.ac.uk. Any other queries\n",
    "should be sent to the UG Office: maths.exams@imperial.ac.uk\n",
    "4. You may use existing code from anywhere\n",
    "but you are **REQUIRED** to cite the source if it is not part of the module material,\n",
    "by including a weblink in a comment.\n",
    "5. You **MUST NOT** ask for help online or\n",
    "communicate with others within or outside the module.\n",
    "Failure to follow these rules will be considered misconduct.\n",
    "6. **NO USAGE of AI tools** such as ChatGPT or GitHub Co-Pilot."
   ],
   "metadata": {}
  },
  {
   "cell_type": "markdown",
   "source": [
    "You should use the following packages:"
   ],
   "metadata": {}
  },
  {
   "outputs": [],
   "cell_type": "code",
   "source": [
    "using LinearAlgebra, SetRounding, Test"
   ],
   "metadata": {},
   "execution_count": 1
  },
  {
   "cell_type": "markdown",
   "source": [
    "**WARNING** It may be necessary to restart the kernel if issues arise. Remember to reload the packages\n",
    "when you do so."
   ],
   "metadata": {}
  },
  {
   "cell_type": "markdown",
   "source": [
    "## I.2 Reals"
   ],
   "metadata": {}
  },
  {
   "cell_type": "markdown",
   "source": [
    "**Problem 1 (C)**\n",
    "Implement the function `issub` that determines whether a `Float16` is a sub-normal number.\n",
    "DO NOT use the inbuilt routine `issubnormal`."
   ],
   "metadata": {}
  },
  {
   "outputs": [
    {
     "output_type": "execute_result",
     "data": {
      "text/plain": "\u001b[33m\u001b[1mTest Broken\u001b[22m\u001b[39m\n  Expression: issub(reinterpret(Float16, 0x03ff))"
     },
     "metadata": {},
     "execution_count": 2
    }
   ],
   "cell_type": "code",
   "source": [
    "function issub(x::Float16)\n",
    "    # TODO: return `true` if `x` is a sub-normal float. Otherwise return `false`\n",
    "\n",
    "end\n",
    "\n",
    "@test_broken issub(Float16(0))\n",
    "@test_broken issub(nextfloat(Float16(0)))\n",
    "@test_broken issub(prevfloat(Float16(0)))\n",
    "@test_broken !issub(Float16(1))\n",
    "@test_broken !issub(reinterpret(Float16,0b0000010000000000))\n",
    "@test_broken issub(reinterpret(Float16,0b0000001111111111))"
   ],
   "metadata": {},
   "execution_count": 2
  },
  {
   "cell_type": "markdown",
   "source": [
    "**Problem 2 (C)** Complete the following function `divideby3(x)` that\n",
    "returns a tuple `a,b` such that `a` is the largest `Float64` less\n",
    "than or equal to `x/3` and `b` is the smallest `Float64` greater than or equal to `x/3`,\n",
    "using the `setrounding` function. You may assume the input is a `Float64`."
   ],
   "metadata": {}
  },
  {
   "outputs": [
    {
     "output_type": "execute_result",
     "data": {
      "text/plain": "\u001b[33m\u001b[1mTest Broken\u001b[22m\u001b[39m\n  Expression: b == nextfloat(a)"
     },
     "metadata": {},
     "execution_count": 3
    }
   ],
   "cell_type": "code",
   "source": [
    "function divideby3(x)\n",
    "    # TODO: assign a,b so that a ≤ x ≤ b where b is either equal to a or the next float\n",
    "    # replacing the following incorrect answers:\n",
    "    a,b = x/3, x/3\n",
    "\n",
    "end\n",
    "\n",
    "x = 0.1 # arbitary x\n",
    "a,b = divideby3(x)\n",
    "@test_broken a ≤ big(x)/3 ≤ b\n",
    "@test_broken b == nextfloat(a)"
   ],
   "metadata": {},
   "execution_count": 3
  },
  {
   "cell_type": "markdown",
   "source": [
    "## I.3 Divided Differences"
   ],
   "metadata": {}
  },
  {
   "cell_type": "markdown",
   "source": [
    "**Problem 3 (B)** Use second-order divided differences\n",
    "with an appropriately chosen $h$ to approximate the second derivative of\n",
    "$$\n",
    "f(x) = \\cos(x^2)\n",
    "$$\n",
    "at $x = 0.1$ to 5 digits accuracy. Note you are not required to choose a \"quasi-optimal\"\n",
    "value for $h$, as long as your choice achieves 5 digits."
   ],
   "metadata": {}
  },
  {
   "outputs": [
    {
     "output_type": "execute_result",
     "data": {
      "text/plain": "\u001b[33m\u001b[1mTest Broken\u001b[22m\u001b[39m\n  Expression: abs(fd2(0.1) + 2 * sin(0.1 ^ 2) + 4 * 0.1 ^ 2 * cos(0.1 ^ 2)) ≤ 1.0e-5"
     },
     "metadata": {},
     "execution_count": 4
    }
   ],
   "cell_type": "code",
   "source": [
    "function fd2(x)\n",
    "    # TODO: implement a second-order finite-difference rule\n",
    "    # to approximate f''(x)\n",
    "    # for f(x) = cos(x^2)\n",
    "    # with step-size h chosen to get sufficient accuracy\n",
    "\n",
    "end\n",
    "\n",
    "\n",
    "@test_broken abs(fd2(0.1) + 2*sin(0.1^2) + 4*0.1^2*cos(0.1^2)) ≤ 1E-5"
   ],
   "metadata": {},
   "execution_count": 4
  },
  {
   "cell_type": "markdown",
   "source": [
    "## I.4 Dual Numbers"
   ],
   "metadata": {}
  },
  {
   "cell_type": "markdown",
   "source": [
    "**Problem 4 (A)** Consider a 2nd order version of a dual number:\n",
    "$$\n",
    "a + b ϵ_1 + c ϵ_2\n",
    "$$\n",
    "such that\n",
    "$$\n",
    "\\begin{align*}\n",
    "ϵ_1^2 &= ϵ_2 \\\\\n",
    "ϵ_2^2 &= ϵ_1 ϵ_2 =  0.\n",
    "\\end{align*}\n",
    "$$\n",
    "Complete the following implementation supporting `+` and `*` (and\n",
    "assuming `a,b,c` are `Float64`). Hint: you may need to work out on paper\n",
    "how to multiply `(s.a + s.b ϵ_1 + s.c ϵ_2)*(t.a + t.b ϵ_1 + t.c ϵ_2)` using the\n",
    "relationship above."
   ],
   "metadata": {}
  },
  {
   "outputs": [
    {
     "output_type": "execute_result",
     "data": {
      "text/plain": "\u001b[33m\u001b[1mTest Broken\u001b[22m\u001b[39m\n  Expression: f(Dual2(x, 1.0, 0.0)) == Dual2(f(x), 3 * x ^ 2 + 2, (6x) / 2)"
     },
     "metadata": {},
     "execution_count": 5
    }
   ],
   "cell_type": "code",
   "source": [
    "import Base: *, +, ^\n",
    "struct Dual2\n",
    "    a::Float64\n",
    "    b::Float64\n",
    "    c::Float64\n",
    "end\n",
    "\n",
    "function +(s::Dual2, t::Dual2)\n",
    "    # TODO: Implement Dual2(...) + Dual2(...), returning a Dual2\n",
    "\n",
    "end\n",
    "\n",
    "function +(s::Dual2, c::Real)\n",
    "    # TODO: Implement Dual2(...) + c, returning a Dual2\n",
    "\n",
    "end\n",
    "\n",
    "function *(c::Number, s::Dual2)\n",
    "    # TODO: Implement c * Dual2(...), returning a Dual2\n",
    "\n",
    "end\n",
    "\n",
    "function *(s::Dual2, t::Dual2)\n",
    "    # TODO: Implement Dual2(...) * Dual2(...), returning a Dual2\n",
    "\n",
    "\n",
    "end\n",
    "\n",
    "f = x -> x*x*x + 2x + 1\n",
    "x = 0.1\n",
    "@test_broken f(Dual2(x,1.,0.)) == Dual2(f(x), 3x^2+2, 6x / 2)\n",
    "\n",
    "# This has computed the first and second derivatives as\n",
    "# as f(x) + f'(x)*ϵ_1 + f''(x)/2*ϵ_2\n",
    "# == (x^3 + x) + (3x^2+1)*ϵ_1 + 6x/2*ϵ_2"
   ],
   "metadata": {},
   "execution_count": 5
  },
  {
   "cell_type": "markdown",
   "source": [
    "## II.1 Structured Matrices"
   ],
   "metadata": {}
  },
  {
   "cell_type": "markdown",
   "source": [
    "**Problem 5.1 (C)** Complete the implementation of `LowerTridiagonal` which represents a banded matrix with\n",
    "bandwidths $(l,u) = (2,0)$ by storing only its diagonal, sub-diagonal, and second-sub-diagonal as vectors."
   ],
   "metadata": {}
  },
  {
   "outputs": [
    {
     "output_type": "execute_result",
     "data": {
      "text/plain": "\u001b[33m\u001b[1mTest Broken\u001b[22m\u001b[39m\n  Expression: LowerTridiagonal(d, dl, dl2) == diagm(0 => d, -1 => dl, -2 => dl2)"
     },
     "metadata": {},
     "execution_count": 6
    }
   ],
   "cell_type": "code",
   "source": [
    "import Base: getindex,  size, *\n",
    "\n",
    "struct LowerTridiagonal <: AbstractMatrix{Float64}\n",
    "    d::Vector{Float64}   # diagonal entries of length n\n",
    "    dl::Vector{Float64}  # sub-diagonal entries of length n-1\n",
    "    dl2::Vector{Float64} # second-sub-diagonal entries of length n-2\n",
    "end\n",
    "\n",
    "size(L::LowerTridiagonal) = (length(L.d),length(L.d))\n",
    "\n",
    "function getindex(L::LowerTridiagonal, k::Int, j::Int)\n",
    "    d, dl, dl2 = L.d, L.dl, L.dl2\n",
    "    # TODO: return L[k,j].\n",
    "    # If `k == j` then it should be equal to `d[k]`.\n",
    "    # If `k == j+1` then it should be equal to `dl[j]`.\n",
    "    # If `k == j+2` then it should be equal to `dl2[j]`.\n",
    "    # Otherwise, it should return 0.0\n",
    "\n",
    "end\n",
    "\n",
    "n = 10\n",
    "d, dl, dl2 = randn(n), randn(n-1), randn(n-2)\n",
    "@test_broken LowerTridiagonal(d, dl, dl2) == diagm(0 => d, -1 => dl, -2 => dl2)"
   ],
   "metadata": {},
   "execution_count": 6
  },
  {
   "cell_type": "markdown",
   "source": [
    "**Problem 5.2 (B)** Complete the implementation of `*` for a `LowerTridiagonal` matrix\n",
    "so that it takes $O(n)$ operations."
   ],
   "metadata": {}
  },
  {
   "outputs": [
    {
     "output_type": "execute_result",
     "data": {
      "text/plain": "\u001b[33m\u001b[1mTest Broken\u001b[22m\u001b[39m\n  Expression: LowerTridiagonal(d, dl, dl2) * x ≈ diagm(0 => d, -1 => dl, -2 => dl2) * x"
     },
     "metadata": {},
     "execution_count": 7
    }
   ],
   "cell_type": "code",
   "source": [
    "function *(L::LowerTridiagonal, x::AbstractVector)\n",
    "    # TODO: Return L*x but computed in O(n) operations\n",
    "\n",
    "end\n",
    "\n",
    "n = 10\n",
    "d, dl, dl2 = randn(n), randn(n-1), randn(n-2)\n",
    "x = randn(n)\n",
    "@test_broken LowerTridiagonal(d, dl, dl2)*x ≈ diagm(0 => d, -1 => dl, -2 => dl2)*x"
   ],
   "metadata": {},
   "execution_count": 7
  },
  {
   "cell_type": "markdown",
   "source": [
    "## II.3 QR"
   ],
   "metadata": {}
  },
  {
   "cell_type": "markdown",
   "source": [
    "**Problem 6 (C)** Approximate $\\exp x$ by a cubic polynomial by minimising\n",
    "the least squares error when sampled at $n$ evenly spaced points in $[0,1]$,\n",
    "that is, $x_k = (k-1)/(n-1)$ for $k = 1,…,n$,\n",
    "returning the coefficients in the monomial basis."
   ],
   "metadata": {}
  },
  {
   "outputs": [
    {
     "output_type": "execute_result",
     "data": {
      "text/plain": "\u001b[33m\u001b[1mTest Broken\u001b[22m\u001b[39m\n  Expression: abs((c[1] + c[2] * x + c[3] * x ^ 2 + c[4] * x ^ 3) - exp(x)) ≤ 0.001"
     },
     "metadata": {},
     "execution_count": 8
    }
   ],
   "cell_type": "code",
   "source": [
    "function expfit(n)\n",
    "    # TODO: return the coefficients [c_0,c_1,c_2,c_3] of the polynomial\n",
    "    # c_0 + c_1*x + c_2*x^2 + c_3*x^3 that minimises the L^2 error at `n`\n",
    "    # evenly spaced samples\n",
    "\n",
    "end\n",
    "\n",
    "c = expfit(1000)\n",
    "x = 0.1\n",
    "@test_broken abs(c[1] + c[2]*x + c[3]*x^2 + c[4]*x^3 - exp(x)) ≤ 1E-3"
   ],
   "metadata": {},
   "execution_count": 8
  },
  {
   "cell_type": "markdown",
   "source": [
    "**Problem 7 (A)** Complete the function `lq(A)` that\n",
    "returns a LQ decomposition, that is, `A = LQ` where  `L` is lower triangular and `Q` is an orthogonal\n",
    "matrix. You may assume that `A`\n",
    "is a square `Matrix{Float64}`. Hint: think of how a Householder reflection\n",
    "can be constructed such that, for $𝐱 ∈ ℝ^n$,\n",
    "$$\n",
    "𝐱^⊤ Q = \\|𝐱\\|𝐞_1^⊤.\n",
    "$$"
   ],
   "metadata": {}
  },
  {
   "outputs": [
    {
     "output_type": "execute_result",
     "data": {
      "text/plain": "\u001b[33m\u001b[1mTest Broken\u001b[22m\u001b[39m\n  Expression: L ≈ tril(L)"
     },
     "metadata": {},
     "execution_count": 9
    }
   ],
   "cell_type": "code",
   "source": [
    "function lq(A)\n",
    "    m,n = size(A)\n",
    "    m == n || error(\"not square\")\n",
    "    # TODO Create Q and L such that A = L*Q, Q'Q == I and L is lower triangular\n",
    "    # Replacing the following incorrect values:\n",
    "    L = ones(m, n)\n",
    "    Q = zeros(m, m)\n",
    "\n",
    "    L,Q\n",
    "end\n",
    "\n",
    "A = [1.0 2 3; 1 4 9; 1 1 1]\n",
    "L,Q = lq(A)\n",
    "@test_broken Q'Q ≈ I\n",
    "@test_broken L*Q ≈ A\n",
    "@test_broken L ≈ tril(L) # it is acceptable to have small non-zero entries in L"
   ],
   "metadata": {},
   "execution_count": 9
  },
  {
   "cell_type": "markdown",
   "source": [
    "## 5. Singular Value Decomposition"
   ],
   "metadata": {}
  },
  {
   "cell_type": "markdown",
   "source": [
    "**Problem 8 (B)** Implement `pseudoinv` that returns the pseudo-inverse $A^+$\n",
    "for an arbitrary square matrix, assuming that any singular value less than\n",
    "$10^{-15}$ is in fact exactly zero. DO NOT use the inbuilt routine `pinv`."
   ],
   "metadata": {}
  },
  {
   "outputs": [
    {
     "output_type": "execute_result",
     "data": {
      "text/plain": "\u001b[33m\u001b[1mTest Broken\u001b[22m\u001b[39m\n  Expression: A * A⁺ * A ≈ A"
     },
     "metadata": {},
     "execution_count": 10
    }
   ],
   "cell_type": "code",
   "source": [
    "function pseudoinv(A)\n",
    "    m,n = size(A)\n",
    "    m == n || error(\"A must be square\")\n",
    "    tol = 1E-15 # threshold below which we assume a singular value is zero\n",
    "    # TODO: construct and return the pseudo inverse of A\n",
    "\n",
    "end\n",
    "\n",
    "A = [1 2 3; 4 5 6; 7 8 9]\n",
    "A⁺ = pseudoinv(A)\n",
    "@test_broken A⁺*A*A⁺ ≈ A⁺\n",
    "@test_broken A*A⁺*A ≈ A"
   ],
   "metadata": {},
   "execution_count": 10
  },
  {
   "cell_type": "markdown",
   "source": [
    "---\n",
    "\n",
    "*This notebook was generated using [Literate.jl](https://github.com/fredrikekre/Literate.jl).*"
   ],
   "metadata": {}
  }
 ],
 "nbformat_minor": 3,
 "metadata": {
  "language_info": {
   "file_extension": ".jl",
   "mimetype": "application/julia",
   "name": "julia",
   "version": "1.8.3-pre.0"
  },
  "kernelspec": {
   "name": "julia-1.8",
   "display_name": "Julia 1.8.3-pre.0",
   "language": "julia"
  }
 },
 "nbformat": 4
}
